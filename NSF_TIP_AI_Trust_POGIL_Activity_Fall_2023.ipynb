{
  "nbformat": 4,
  "nbformat_minor": 0,
  "metadata": {
    "colab": {
      "provenance": [],
      "toc_visible": true,
      "include_colab_link": true
    },
    "kernelspec": {
      "name": "python3",
      "display_name": "Python 3"
    }
  },
  "cells": [
    {
      "cell_type": "markdown",
      "metadata": {
        "id": "view-in-github",
        "colab_type": "text"
      },
      "source": [
        "<a href=\"https://colab.research.google.com/github/sbhattac/nsf-tip-ai-trust/blob/main/NSF_TIP_AI_Trust_POGIL_Activity_Fall_2023.ipynb\" target=\"_parent\"><img src=\"https://colab.research.google.com/assets/colab-badge.svg\" alt=\"Open In Colab\"/></a>"
      ]
    },
    {
      "cell_type": "markdown",
      "metadata": {
        "id": "o7DsY44Bvla4"
      },
      "source": [
        "# Activity sponsored by grant titled Targeted Infusion Project: Exposing Students to the Social Relevance and Trustworthiness of Artificial Intelligence, from the National Science Foundation (NSF), Award Number: 2205502\n",
        "\n",
        "### Faculty Research Team for NSF grant funded project:\n",
        "* Dr. Sambit Bhattacharya, PI, Professor of Computer Science\n",
        "* Dr. Bogdan Czejdo, Co-PI, Belk Distinguished Professor of Science & Technology\n",
        "* Dr. Khalid Lodhi, Co-PI, Professor & Director Forensic Science Program\n",
        "* Dr. Zahra Shekarkhar, Co-PI, Associate Professor of Criminal Justice\n",
        "* Dr. Xiaochen Hu, Co-PI, Associate Professor of Criminal Justice\n",
        "\n",
        "### Data used in this activity is described in the following publication:\n",
        "<i> Hu, Xiaochen, Xudong Zhang, and Nicholas Lovrich. \"Public perceptions of police behavior during traffic stops: logistic regression and machine learning approaches compared.\" Journal of computational social science 4 (2021): 355-380. </i>\n",
        "    \n",
        "\n",
        "\n",
        "\n"
      ]
    },
    {
      "cell_type": "code",
      "metadata": {
        "id": "3RYUC50U_O15",
        "cellView": "form"
      },
      "source": [
        "#@title # Assigning Roles and Responsibilities within each group\n",
        "\n",
        "#@markdown ---\n",
        "#@markdown ### Enter Instructor Name:\n",
        "Instructor_Name = \"\" #@param {type:\"string\"}\n",
        "#@markdown 1. Introduces activities. Assigns roles to participants.\n",
        "#@markdown 2. Responds for help or clarification request.\n",
        "#@markdown 3. Collects the Jupiter notebooks from Recorder and Evaluator\n",
        "#@markdown ---\n",
        "\n",
        "#@markdown ### Enter Facilitator Name:\n",
        "Facilitator_Name = \"\" #@param {type:\"string\"}\n",
        "#@markdown ### Enter Backup Facilitator Name:\n",
        "Backup_Facilitator_Name = \"\" #@param {type:\"string\"}\n",
        "#@markdown 1.\tReads aloud each question and ask for volunteers to answer. If there is no volunteer then he/she starts the discussion and asks one participant after another for comments, solutions, answers, or clarifications.  When majority participants agree then she/he asks Recorder to record the answer. Also coordinates discussion about the code execution and the output like any other question.\n",
        "#@markdown 2.\tInvolves each participant equally in the discussions.\n",
        "#@markdown 3.\tTurn the coordinating role to Evaluator after finishing each activity.\n",
        "#@markdown ---\n",
        "\n",
        "#@markdown ### Enter Recorder Name:\n",
        "Recorder_Name = \"\" #@param {type:\"string\"}\n",
        "#@markdown ### Enter Backup Recorder Name:\n",
        "Backup_Recorder_Name = \"\" #@param {type:\"string\"}\n",
        "#@markdown 1.\tCoordinates virtual screen access if this is an online activity. Displays his/her screen when asking questions. Gives access to screen sharing as requested\n",
        "#@markdown 2.\tRecords all answers  for each question  inside the Jupiter Notebook\n",
        "#@markdown 3. Use \"Run all\" in menu \"Runtime\" and then \"Save\" Jupiter Workbook with all answers and results.\n",
        "#@markdown 4. Submit Jupiter notebook with all answers and results of the running code.\n",
        "#@markdown ---\n",
        "\n",
        "#@markdown ### Enter Evaluator Name:\n",
        "Evaluator_Name = \"\" #@param {type:\"string\"}\n",
        "#@markdown ### Enter Backup Evaluator Name:\n",
        "Backup_Evaluator_Name = \"\" #@param {type:\"string\"}\n",
        "#@markdown 1.\tKeeps track of time for each designated Activity.\n",
        "#@markdown 2.\tAfter each activity leads the discussion about material and collects feedback in the form of the table below.\n",
        "#@markdown 3. Submit Jupiter notebook with all comments and results of discussion at the end of each activity.\n",
        "#@markdown ---\n",
        "\n",
        "#@markdown ### Enter Participant names\n",
        "Participant_4_Name = \"\" #@param {type:\"string\"}\n",
        "Participant_5_Name = \"\" #@param {type:\"string\"}\n",
        "Participant_6_Name = \"\" #@param {type:\"string\"}\n",
        "Participant_7_Name = \"\" #@param {type:\"string\"}\n",
        "Participant_8_Name = \"\" #@param {type:\"string\"}\n",
        "\n",
        "#@markdown 1.\tParticipates actively in team work to answer all questions.\n",
        "#@markdown 2.\tExecutes the code and shares the comments.\n",
        "#@markdown ---\n",
        "\n",
        "print(\"You have chosen {} as the Instructor\".format(Instructor_Name))"
      ],
      "execution_count": null,
      "outputs": []
    },
    {
      "cell_type": "code",
      "metadata": {
        "id": "Y8eS79mDTxxl",
        "cellView": "form"
      },
      "source": [
        "#@title Download files to work on (press \"run\" button)\n",
        "import urllib\n",
        "import os\n",
        "DOWNLOAD_ROOT = \"https://raw.githubusercontent.com/sbhattac/nsf-tip-ai-trust/main/\"\n",
        "filename = \"modified_police_public_contact_survey_traffic_stop_2005_2015.csv\"\n",
        "print(\"Downloading\", filename)\n",
        "url = DOWNLOAD_ROOT + filename\n",
        "urllib.request.urlretrieve(url, filename)"
      ],
      "execution_count": null,
      "outputs": []
    },
    {
      "cell_type": "code",
      "metadata": {
        "id": "wZKeKvW7Vnq-",
        "cellView": "form"
      },
      "source": [
        "#@title Library Imports (press \"run\" button)\n",
        "import pandas as pd  #imports the \"pandas\" library\n",
        "import matplotlib.pyplot as plt\n",
        "from sklearn.tree import DecisionTreeClassifier, export_graphviz, plot_tree\n",
        "from sklearn.metrics import accuracy_score\n",
        "import numpy as np\n",
        "from IPython.display import SVG, display\n",
        "from graphviz import Source\n",
        "from ipywidgets import interactive, fixed\n",
        "from sklearn.metrics import confusion_matrix\n",
        "from sklearn.metrics import classification_report\n",
        "from sklearn.preprocessing import OneHotEncoder\n",
        "from sklearn.model_selection import train_test_split\n",
        "from sklearn import tree\n",
        "import matplotlib.pyplot as plt\n",
        "import re\n",
        "import matplotlib"
      ],
      "execution_count": 2,
      "outputs": []
    },
    {
      "cell_type": "markdown",
      "metadata": {
        "id": "4tkqF7CXwb_R"
      },
      "source": [
        "## Background Information:\n",
        "\n",
        "You have been given access to the file named <br><b><i> modified_police_public_contact_survey_traffic_stop_2005_2015.csv </i></b>\n",
        "<br> which is used in the research publication referenced above.\n",
        "\n",
        "The data is from a survey related to police public contact, specifically focusing on traffic stops from the years 2005 to 2015. Here's a breakdown of the columns in the dataset:\n",
        "* Policebehaviorproperly: Indicates whether the police behaved properly during the interaction (binary: 0 for \"no\" or 1 for \"yes\").\n",
        "* Gender: The gender of the person stopped (binary: 0 for \"female\" or 1 for \"male\").\n",
        "* Age: The age of the person stopped. Numeric value minimum of 16 and maximum of 90.\n",
        "* Arrested: Indicates whether the person was arrested (binary: 0 for \"no\" or 1 for \"yes\").\n",
        "* Ticketed: Indicates whether the person was ticketed (binary: 0 for \"no\" or 1 for \"yes\").\n",
        "* Warning: Indicates whether the person was given a warning (binary: 0 for \"no\" or 1 for \"yes\").\n",
        "* Noformal: Indicates whether there was no formal action taken (binary: 0 for \"no\" or 1 for \"yes\").\n",
        "* Reasonforstop: designates whether the officer(s) gave a reason for stopping the vehicle (binary: 0 for \"no\" or 1 for \"yes\").\n",
        "*  Legitimatestop: Indicates whether the stop was considered legitimate by the person who was stopped (binary: 0 for \"no\" or 1 for \"yes\").\n",
        "* Numberofofficers: The number of officers who were present at the stop (0 = one officer; 1 = two or more than two officers).\n",
        "* Policeuseofforce: Indicates whether the police used force during the stop (binary: 0 for \"no\" or 1 for \"yes\").\n",
        "* Race: White, Black, Asian, or Other for the race of the person stopped.\n",
        "\n",
        "Each row in the dataset represents an individual traffic stop incident, with various attributes recorded. The data can be used to analyze trends and patterns in police behavior, demographic details of those stopped, and outcomes of traffic stops over this 10-year period.\n"
      ]
    },
    {
      "cell_type": "code",
      "source": [
        "#@title Decision Tree on Full Dataset with Depth Limit 3 (press \"run\" button)\n",
        "\n",
        "# Re-importing the dataset to ensure a clean start\n",
        "data = pd.read_csv(\"modified_police_public_contact_survey_traffic_stop_2005_2015.csv\")\n",
        "\n",
        "# Identifying categorical columns for encoding\n",
        "categorical_cols = data.select_dtypes(include=['object']).columns\n",
        "\n",
        "# Applying one-hot encoding to categorical columns\n",
        "encoder = OneHotEncoder(sparse=False, handle_unknown='ignore')\n",
        "encoded_data = pd.DataFrame(encoder.fit_transform(data[categorical_cols]),\n",
        "                            columns=encoder.get_feature_names_out(categorical_cols))\n",
        "\n",
        "# Merging the encoded columns back with the original data\n",
        "data_encoded = data.drop(categorical_cols, axis=1)\n",
        "data_encoded = pd.concat([data_encoded, encoded_data], axis=1)\n",
        "\n",
        "# Handling NaN values by filling with median\n",
        "data_encoded = data_encoded.fillna(data_encoded.median())\n",
        "\n",
        "# Preparing the data for the decision tree model\n",
        "X = data_encoded.drop(['Policebehaviorproperly'], axis=1)  # Features\n",
        "y = data_encoded['Policebehaviorproperly']  # Target variable\n",
        "\n",
        "# Splitting the data into training and testing sets\n",
        "X_train, X_test, y_train, y_test = train_test_split(X, y, test_size=0.3, random_state=42)\n",
        "\n",
        "# Creating the Decision Tree model\n",
        "dtree = DecisionTreeClassifier(max_depth=3)  # IF YOU WANT TO CHANGE THE TREE DEPTH REPLACE 3 WITH SOME OTHER VALUE LIKE 5\n",
        "dtree.fit(X_train, y_train)\n",
        "\n",
        "# Predicting the test set results and calculating the accuracy\n",
        "y_pred = dtree.predict(X_test)\n",
        "report = classification_report(y_test, y_pred)\n",
        "\n",
        "fig, ax = plt.subplots(figsize=(20,15))\n",
        "\n",
        "# Plotting the Decision Tree\n",
        "#plt.figure(figsize=(20,10))\n",
        "#plot_tree(dtree, filled=True, feature_names=X.columns, class_names=['Improper', 'Proper'])\n",
        "plot_tree(dtree, ax=ax, filled=True, feature_names=X.columns, class_names=['Improper', 'Proper'])\n",
        "\n",
        "def replace_text(obj):\n",
        "    if type(obj) == matplotlib.text.Annotation:\n",
        "        txt = obj.get_text()\n",
        "        txt = re.sub(\"\\ngini[^$]*\",\"\",txt)\n",
        "        obj.set_text(txt)\n",
        "    return obj\n",
        "\n",
        "ax.properties()['children'] = [replace_text(i) for i in ax.properties()['children']]\n",
        "\n",
        "plt.show()\n",
        "\n",
        "#report\n"
      ],
      "metadata": {
        "id": "ltkW0kJLavEr",
        "cellView": "form"
      },
      "execution_count": null,
      "outputs": []
    },
    {
      "cell_type": "code",
      "metadata": {
        "id": "auqHE4eOG2Mt",
        "cellView": "form"
      },
      "source": [
        "#@title Discussion Questions 1 - 12 (recorder will write and save answers)\n",
        "#@markdown 1. The diagram is a decision tree (it is actually an upside-down tree). All boxes are referred to as nodes. How many nodes do we have in this diagram?\n",
        "activity1_answer1 = \"\" #@param {type:\"string\"}\n",
        "#@markdown 2. We refer to the single node on the top of the diagram as root. Decision trees are usually multi-level. We start counting from the top of diagram but do not include root. How many levels of decision tree do we have?\n",
        "activity1_answer2 = \"\" #@param {type:\"string\"}\n",
        "#@markdown 3. The nodes can be connected to other nodes on a lower level. How many such nodes are in this diagram?\n",
        "activity1_answer3 = \"\" #@param {type:\"string\"}\n",
        "#@markdown 4. The connections are called branches of the tree.  How many branches are in this diagram?\n",
        "activity1_answer4 = \"\" #@param {type:\"string\"}\n",
        "#@markdown 5. Nodes that grow two branches (\"Yes\" and \"No\") are called decision boxes. The left branch is the \"Yes\" decision and the right branch is the \"No\" decision. They represent a selection condition of a variable in the police contact data. What is the selection condition for the decision box in the root?\n",
        "activity1_answer5 = \"\" #@param {type:\"string\"}\n",
        "#@markdown 6. We refer to selection condition also as \"predictor\" since we use them for predictions.  How many predictors do we use in this diagram?\n",
        "activity1_answer6 = \"\" #@param {type:\"string\"}\n",
        "#@markdown 7. The nodes that do not grow any branches are called \"leaves\" and represent classes of the predicted variable Policebehaviorproperly. How many leaves do we have in the diagram?\n",
        "activity1_answer7 = \"\" #@param {type:\"string\"}\n",
        "#@markdown 8. Can you predict Policebehaviorproperly (whether it was Proper or Improper) when it was not a legitimate stop, the police did not use force, and police did not give a ticket?\n",
        "activity1_answer8 = \"\" #@param {type:\"string\"}\n",
        "#@markdown 9. Can you predict Policebehaviorproperly when it was not a legitimate stop, the police did happen to use force?\n",
        "activity1_answer9 = \"\" #@param {type:\"string\"}\n",
        "#@markdown 10. For the previous question does age seem to matter ?\n",
        "activity1_answer10 = \"\" #@param {type:\"string\"}\n",
        "#@markdown 11. Can you predict Policebehaviorproperly when it was a legitimate stop, the police did not use force? Does it matter whether a warning was given or not?\n",
        "activity1_answer11 = \"\" #@param {type:\"string\"}\n",
        "#@markdown 12. Do we always need to check the five predictors to determine the value of the Policebehaviorproperly?\n",
        "activity1_answer12 = \"\" #@param {type:\"string\"}"
      ],
      "execution_count": null,
      "outputs": []
    },
    {
      "cell_type": "code",
      "source": [
        "#@title Take a look at the top rows of the datset / table (press \"run\" button)\n",
        "\n",
        "# Load your dataset\n",
        "data = pd.read_csv(\"modified_police_public_contact_survey_traffic_stop_2005_2015.csv\")\n",
        "\n",
        "N_Samples = 10\n",
        "\n",
        "random_selection = data.sample(n=N_Samples)\n",
        "\n",
        "# Display the first few rows of the dataset\n",
        "random_selection.head(N_Samples)\n"
      ],
      "metadata": {
        "cellView": "form",
        "id": "OPY9e-KEefoa"
      },
      "execution_count": null,
      "outputs": []
    },
    {
      "cell_type": "code",
      "metadata": {
        "cellView": "form",
        "id": "x_32sPtd3uAp"
      },
      "source": [
        "#@title Discussion Questions 13 - 14 (recorder will write and save answers)\n",
        "#@markdown 13. What you see above are 10 sample rows randomly selected (or different number of rows if you can change the code) of the dataset. Based on this view of an extremely small part of the data (because there are more than 15,000 rows in the full dataset) what variable would you choose for the root? You do not need to consider Age in your discussions.\n",
        "activity1_answer13 = \"\" #@param {type:\"string\"}\n",
        "#@markdown 14. What was the basis of choosing that variable for root in the previous question?\n",
        "activity1_answer14 = \"\" #@param {type:\"string\"}"
      ],
      "execution_count": null,
      "outputs": []
    }
  ]
}
